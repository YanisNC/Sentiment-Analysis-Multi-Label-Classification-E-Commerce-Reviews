{
  "nbformat": 4,
  "nbformat_minor": 0,
  "metadata": {
    "kernelspec": {
      "display_name": "Python 3",
      "language": "python",
      "name": "python3"
    },
    "language_info": {
      "codemirror_mode": {
        "name": "ipython",
        "version": 3
      },
      "file_extension": ".py",
      "mimetype": "text/x-python",
      "name": "python",
      "nbconvert_exporter": "python",
      "pygments_lexer": "ipython3",
      "version": "3.7.6"
    },
    "colab": {
      "name": "Sentiment Analysis Multi-label Classification on E-Commerce Reviews.ipynb",
      "provenance": [],
      "collapsed_sections": [],
      "include_colab_link": true
    },
    "widgets": {
      "application/vnd.jupyter.widget-state+json": {
        "93dd867f6c424abf986a39e6d16aa389": {
          "model_module": "@jupyter-widgets/controls",
          "model_name": "HBoxModel",
          "state": {
            "_view_name": "HBoxView",
            "_dom_classes": [],
            "_model_name": "HBoxModel",
            "_view_module": "@jupyter-widgets/controls",
            "_model_module_version": "1.5.0",
            "_view_count": null,
            "_view_module_version": "1.5.0",
            "box_style": "",
            "layout": "IPY_MODEL_92b219d31d89435da2793956431c0215",
            "_model_module": "@jupyter-widgets/controls",
            "children": [
              "IPY_MODEL_e6df8030d3ca4e85a4d197d7c1268d78",
              "IPY_MODEL_2c7c06e8e7374c33a3433765dad28667"
            ]
          }
        },
        "92b219d31d89435da2793956431c0215": {
          "model_module": "@jupyter-widgets/base",
          "model_name": "LayoutModel",
          "state": {
            "_view_name": "LayoutView",
            "grid_template_rows": null,
            "right": null,
            "justify_content": null,
            "_view_module": "@jupyter-widgets/base",
            "overflow": null,
            "_model_module_version": "1.2.0",
            "_view_count": null,
            "flex_flow": null,
            "width": null,
            "min_width": null,
            "border": null,
            "align_items": null,
            "bottom": null,
            "_model_module": "@jupyter-widgets/base",
            "top": null,
            "grid_column": null,
            "overflow_y": null,
            "overflow_x": null,
            "grid_auto_flow": null,
            "grid_area": null,
            "grid_template_columns": null,
            "flex": null,
            "_model_name": "LayoutModel",
            "justify_items": null,
            "grid_row": null,
            "max_height": null,
            "align_content": null,
            "visibility": null,
            "align_self": null,
            "height": null,
            "min_height": null,
            "padding": null,
            "grid_auto_rows": null,
            "grid_gap": null,
            "max_width": null,
            "order": null,
            "_view_module_version": "1.2.0",
            "grid_template_areas": null,
            "object_position": null,
            "object_fit": null,
            "grid_auto_columns": null,
            "margin": null,
            "display": null,
            "left": null
          }
        },
        "e6df8030d3ca4e85a4d197d7c1268d78": {
          "model_module": "@jupyter-widgets/controls",
          "model_name": "FloatProgressModel",
          "state": {
            "_view_name": "ProgressView",
            "style": "IPY_MODEL_9191dad4453544388092bdac04522114",
            "_dom_classes": [],
            "description": "Downloading: 100%",
            "_model_name": "FloatProgressModel",
            "bar_style": "success",
            "max": 433,
            "_view_module": "@jupyter-widgets/controls",
            "_model_module_version": "1.5.0",
            "value": 433,
            "_view_count": null,
            "_view_module_version": "1.5.0",
            "orientation": "horizontal",
            "min": 0,
            "description_tooltip": null,
            "_model_module": "@jupyter-widgets/controls",
            "layout": "IPY_MODEL_0b3ca3afad23462180cc47208227d0f9"
          }
        },
        "2c7c06e8e7374c33a3433765dad28667": {
          "model_module": "@jupyter-widgets/controls",
          "model_name": "HTMLModel",
          "state": {
            "_view_name": "HTMLView",
            "style": "IPY_MODEL_d3da291fcd784edea6b3db29c799cfa0",
            "_dom_classes": [],
            "description": "",
            "_model_name": "HTMLModel",
            "placeholder": "​",
            "_view_module": "@jupyter-widgets/controls",
            "_model_module_version": "1.5.0",
            "value": " 433/433 [00:22&lt;00:00, 19.1B/s]",
            "_view_count": null,
            "_view_module_version": "1.5.0",
            "description_tooltip": null,
            "_model_module": "@jupyter-widgets/controls",
            "layout": "IPY_MODEL_4ce78e8e3eea45b5b2b815515f64afd7"
          }
        },
        "9191dad4453544388092bdac04522114": {
          "model_module": "@jupyter-widgets/controls",
          "model_name": "ProgressStyleModel",
          "state": {
            "_view_name": "StyleView",
            "_model_name": "ProgressStyleModel",
            "description_width": "initial",
            "_view_module": "@jupyter-widgets/base",
            "_model_module_version": "1.5.0",
            "_view_count": null,
            "_view_module_version": "1.2.0",
            "bar_color": null,
            "_model_module": "@jupyter-widgets/controls"
          }
        },
        "0b3ca3afad23462180cc47208227d0f9": {
          "model_module": "@jupyter-widgets/base",
          "model_name": "LayoutModel",
          "state": {
            "_view_name": "LayoutView",
            "grid_template_rows": null,
            "right": null,
            "justify_content": null,
            "_view_module": "@jupyter-widgets/base",
            "overflow": null,
            "_model_module_version": "1.2.0",
            "_view_count": null,
            "flex_flow": null,
            "width": null,
            "min_width": null,
            "border": null,
            "align_items": null,
            "bottom": null,
            "_model_module": "@jupyter-widgets/base",
            "top": null,
            "grid_column": null,
            "overflow_y": null,
            "overflow_x": null,
            "grid_auto_flow": null,
            "grid_area": null,
            "grid_template_columns": null,
            "flex": null,
            "_model_name": "LayoutModel",
            "justify_items": null,
            "grid_row": null,
            "max_height": null,
            "align_content": null,
            "visibility": null,
            "align_self": null,
            "height": null,
            "min_height": null,
            "padding": null,
            "grid_auto_rows": null,
            "grid_gap": null,
            "max_width": null,
            "order": null,
            "_view_module_version": "1.2.0",
            "grid_template_areas": null,
            "object_position": null,
            "object_fit": null,
            "grid_auto_columns": null,
            "margin": null,
            "display": null,
            "left": null
          }
        },
        "d3da291fcd784edea6b3db29c799cfa0": {
          "model_module": "@jupyter-widgets/controls",
          "model_name": "DescriptionStyleModel",
          "state": {
            "_view_name": "StyleView",
            "_model_name": "DescriptionStyleModel",
            "description_width": "",
            "_view_module": "@jupyter-widgets/base",
            "_model_module_version": "1.5.0",
            "_view_count": null,
            "_view_module_version": "1.2.0",
            "_model_module": "@jupyter-widgets/controls"
          }
        },
        "4ce78e8e3eea45b5b2b815515f64afd7": {
          "model_module": "@jupyter-widgets/base",
          "model_name": "LayoutModel",
          "state": {
            "_view_name": "LayoutView",
            "grid_template_rows": null,
            "right": null,
            "justify_content": null,
            "_view_module": "@jupyter-widgets/base",
            "overflow": null,
            "_model_module_version": "1.2.0",
            "_view_count": null,
            "flex_flow": null,
            "width": null,
            "min_width": null,
            "border": null,
            "align_items": null,
            "bottom": null,
            "_model_module": "@jupyter-widgets/base",
            "top": null,
            "grid_column": null,
            "overflow_y": null,
            "overflow_x": null,
            "grid_auto_flow": null,
            "grid_area": null,
            "grid_template_columns": null,
            "flex": null,
            "_model_name": "LayoutModel",
            "justify_items": null,
            "grid_row": null,
            "max_height": null,
            "align_content": null,
            "visibility": null,
            "align_self": null,
            "height": null,
            "min_height": null,
            "padding": null,
            "grid_auto_rows": null,
            "grid_gap": null,
            "max_width": null,
            "order": null,
            "_view_module_version": "1.2.0",
            "grid_template_areas": null,
            "object_position": null,
            "object_fit": null,
            "grid_auto_columns": null,
            "margin": null,
            "display": null,
            "left": null
          }
        },
        "de2f20f766bd40b39f8c3cce077d1207": {
          "model_module": "@jupyter-widgets/controls",
          "model_name": "HBoxModel",
          "state": {
            "_view_name": "HBoxView",
            "_dom_classes": [],
            "_model_name": "HBoxModel",
            "_view_module": "@jupyter-widgets/controls",
            "_model_module_version": "1.5.0",
            "_view_count": null,
            "_view_module_version": "1.5.0",
            "box_style": "",
            "layout": "IPY_MODEL_528e15a242e140a7aea4377f3a8860e9",
            "_model_module": "@jupyter-widgets/controls",
            "children": [
              "IPY_MODEL_d146333b63624bfe98163ad89bdcaaf3",
              "IPY_MODEL_0f340f2eca6749188812e2f212b94b1b"
            ]
          }
        },
        "528e15a242e140a7aea4377f3a8860e9": {
          "model_module": "@jupyter-widgets/base",
          "model_name": "LayoutModel",
          "state": {
            "_view_name": "LayoutView",
            "grid_template_rows": null,
            "right": null,
            "justify_content": null,
            "_view_module": "@jupyter-widgets/base",
            "overflow": null,
            "_model_module_version": "1.2.0",
            "_view_count": null,
            "flex_flow": null,
            "width": null,
            "min_width": null,
            "border": null,
            "align_items": null,
            "bottom": null,
            "_model_module": "@jupyter-widgets/base",
            "top": null,
            "grid_column": null,
            "overflow_y": null,
            "overflow_x": null,
            "grid_auto_flow": null,
            "grid_area": null,
            "grid_template_columns": null,
            "flex": null,
            "_model_name": "LayoutModel",
            "justify_items": null,
            "grid_row": null,
            "max_height": null,
            "align_content": null,
            "visibility": null,
            "align_self": null,
            "height": null,
            "min_height": null,
            "padding": null,
            "grid_auto_rows": null,
            "grid_gap": null,
            "max_width": null,
            "order": null,
            "_view_module_version": "1.2.0",
            "grid_template_areas": null,
            "object_position": null,
            "object_fit": null,
            "grid_auto_columns": null,
            "margin": null,
            "display": null,
            "left": null
          }
        },
        "d146333b63624bfe98163ad89bdcaaf3": {
          "model_module": "@jupyter-widgets/controls",
          "model_name": "FloatProgressModel",
          "state": {
            "_view_name": "ProgressView",
            "style": "IPY_MODEL_2f3ada5798734d73b3b99306c14d28d0",
            "_dom_classes": [],
            "description": "Downloading: 100%",
            "_model_name": "FloatProgressModel",
            "bar_style": "success",
            "max": 536063208,
            "_view_module": "@jupyter-widgets/controls",
            "_model_module_version": "1.5.0",
            "value": 536063208,
            "_view_count": null,
            "_view_module_version": "1.5.0",
            "orientation": "horizontal",
            "min": 0,
            "description_tooltip": null,
            "_model_module": "@jupyter-widgets/controls",
            "layout": "IPY_MODEL_6eb0d451d694459194022a982c504dc3"
          }
        },
        "0f340f2eca6749188812e2f212b94b1b": {
          "model_module": "@jupyter-widgets/controls",
          "model_name": "HTMLModel",
          "state": {
            "_view_name": "HTMLView",
            "style": "IPY_MODEL_6478c92973bb4e0d933af010e865ef59",
            "_dom_classes": [],
            "description": "",
            "_model_name": "HTMLModel",
            "placeholder": "​",
            "_view_module": "@jupyter-widgets/controls",
            "_model_module_version": "1.5.0",
            "value": " 536M/536M [00:21&lt;00:00, 24.8MB/s]",
            "_view_count": null,
            "_view_module_version": "1.5.0",
            "description_tooltip": null,
            "_model_module": "@jupyter-widgets/controls",
            "layout": "IPY_MODEL_b1dd7340424c4611aeefc485d5ee5358"
          }
        },
        "2f3ada5798734d73b3b99306c14d28d0": {
          "model_module": "@jupyter-widgets/controls",
          "model_name": "ProgressStyleModel",
          "state": {
            "_view_name": "StyleView",
            "_model_name": "ProgressStyleModel",
            "description_width": "initial",
            "_view_module": "@jupyter-widgets/base",
            "_model_module_version": "1.5.0",
            "_view_count": null,
            "_view_module_version": "1.2.0",
            "bar_color": null,
            "_model_module": "@jupyter-widgets/controls"
          }
        },
        "6eb0d451d694459194022a982c504dc3": {
          "model_module": "@jupyter-widgets/base",
          "model_name": "LayoutModel",
          "state": {
            "_view_name": "LayoutView",
            "grid_template_rows": null,
            "right": null,
            "justify_content": null,
            "_view_module": "@jupyter-widgets/base",
            "overflow": null,
            "_model_module_version": "1.2.0",
            "_view_count": null,
            "flex_flow": null,
            "width": null,
            "min_width": null,
            "border": null,
            "align_items": null,
            "bottom": null,
            "_model_module": "@jupyter-widgets/base",
            "top": null,
            "grid_column": null,
            "overflow_y": null,
            "overflow_x": null,
            "grid_auto_flow": null,
            "grid_area": null,
            "grid_template_columns": null,
            "flex": null,
            "_model_name": "LayoutModel",
            "justify_items": null,
            "grid_row": null,
            "max_height": null,
            "align_content": null,
            "visibility": null,
            "align_self": null,
            "height": null,
            "min_height": null,
            "padding": null,
            "grid_auto_rows": null,
            "grid_gap": null,
            "max_width": null,
            "order": null,
            "_view_module_version": "1.2.0",
            "grid_template_areas": null,
            "object_position": null,
            "object_fit": null,
            "grid_auto_columns": null,
            "margin": null,
            "display": null,
            "left": null
          }
        },
        "6478c92973bb4e0d933af010e865ef59": {
          "model_module": "@jupyter-widgets/controls",
          "model_name": "DescriptionStyleModel",
          "state": {
            "_view_name": "StyleView",
            "_model_name": "DescriptionStyleModel",
            "description_width": "",
            "_view_module": "@jupyter-widgets/base",
            "_model_module_version": "1.5.0",
            "_view_count": null,
            "_view_module_version": "1.2.0",
            "_model_module": "@jupyter-widgets/controls"
          }
        },
        "b1dd7340424c4611aeefc485d5ee5358": {
          "model_module": "@jupyter-widgets/base",
          "model_name": "LayoutModel",
          "state": {
            "_view_name": "LayoutView",
            "grid_template_rows": null,
            "right": null,
            "justify_content": null,
            "_view_module": "@jupyter-widgets/base",
            "overflow": null,
            "_model_module_version": "1.2.0",
            "_view_count": null,
            "flex_flow": null,
            "width": null,
            "min_width": null,
            "border": null,
            "align_items": null,
            "bottom": null,
            "_model_module": "@jupyter-widgets/base",
            "top": null,
            "grid_column": null,
            "overflow_y": null,
            "overflow_x": null,
            "grid_auto_flow": null,
            "grid_area": null,
            "grid_template_columns": null,
            "flex": null,
            "_model_name": "LayoutModel",
            "justify_items": null,
            "grid_row": null,
            "max_height": null,
            "align_content": null,
            "visibility": null,
            "align_self": null,
            "height": null,
            "min_height": null,
            "padding": null,
            "grid_auto_rows": null,
            "grid_gap": null,
            "max_width": null,
            "order": null,
            "_view_module_version": "1.2.0",
            "grid_template_areas": null,
            "object_position": null,
            "object_fit": null,
            "grid_auto_columns": null,
            "margin": null,
            "display": null,
            "left": null
          }
        },
        "9320ce02c1684ef29557b7ce9bae9e7d": {
          "model_module": "@jupyter-widgets/controls",
          "model_name": "HBoxModel",
          "state": {
            "_view_name": "HBoxView",
            "_dom_classes": [],
            "_model_name": "HBoxModel",
            "_view_module": "@jupyter-widgets/controls",
            "_model_module_version": "1.5.0",
            "_view_count": null,
            "_view_module_version": "1.5.0",
            "box_style": "",
            "layout": "IPY_MODEL_94d6964281914b029c70996a727c5092",
            "_model_module": "@jupyter-widgets/controls",
            "children": [
              "IPY_MODEL_08f4f7a1d20f420eaf8289c3ca4ddcac",
              "IPY_MODEL_eeb1247c1db2481daff83dc07d98a949"
            ]
          }
        },
        "94d6964281914b029c70996a727c5092": {
          "model_module": "@jupyter-widgets/base",
          "model_name": "LayoutModel",
          "state": {
            "_view_name": "LayoutView",
            "grid_template_rows": null,
            "right": null,
            "justify_content": null,
            "_view_module": "@jupyter-widgets/base",
            "overflow": null,
            "_model_module_version": "1.2.0",
            "_view_count": null,
            "flex_flow": null,
            "width": null,
            "min_width": null,
            "border": null,
            "align_items": null,
            "bottom": null,
            "_model_module": "@jupyter-widgets/base",
            "top": null,
            "grid_column": null,
            "overflow_y": null,
            "overflow_x": null,
            "grid_auto_flow": null,
            "grid_area": null,
            "grid_template_columns": null,
            "flex": null,
            "_model_name": "LayoutModel",
            "justify_items": null,
            "grid_row": null,
            "max_height": null,
            "align_content": null,
            "visibility": null,
            "align_self": null,
            "height": null,
            "min_height": null,
            "padding": null,
            "grid_auto_rows": null,
            "grid_gap": null,
            "max_width": null,
            "order": null,
            "_view_module_version": "1.2.0",
            "grid_template_areas": null,
            "object_position": null,
            "object_fit": null,
            "grid_auto_columns": null,
            "margin": null,
            "display": null,
            "left": null
          }
        },
        "08f4f7a1d20f420eaf8289c3ca4ddcac": {
          "model_module": "@jupyter-widgets/controls",
          "model_name": "FloatProgressModel",
          "state": {
            "_view_name": "ProgressView",
            "style": "IPY_MODEL_a1148332a53e4561ad7048d549a77599",
            "_dom_classes": [],
            "description": "Downloading: 100%",
            "_model_name": "FloatProgressModel",
            "bar_style": "success",
            "max": 231508,
            "_view_module": "@jupyter-widgets/controls",
            "_model_module_version": "1.5.0",
            "value": 231508,
            "_view_count": null,
            "_view_module_version": "1.5.0",
            "orientation": "horizontal",
            "min": 0,
            "description_tooltip": null,
            "_model_module": "@jupyter-widgets/controls",
            "layout": "IPY_MODEL_8a48d78aa20540998b3673b6255d55da"
          }
        },
        "eeb1247c1db2481daff83dc07d98a949": {
          "model_module": "@jupyter-widgets/controls",
          "model_name": "HTMLModel",
          "state": {
            "_view_name": "HTMLView",
            "style": "IPY_MODEL_c19805df136b40c286903770668c3742",
            "_dom_classes": [],
            "description": "",
            "_model_name": "HTMLModel",
            "placeholder": "​",
            "_view_module": "@jupyter-widgets/controls",
            "_model_module_version": "1.5.0",
            "value": " 232k/232k [00:00&lt;00:00, 251kB/s]",
            "_view_count": null,
            "_view_module_version": "1.5.0",
            "description_tooltip": null,
            "_model_module": "@jupyter-widgets/controls",
            "layout": "IPY_MODEL_dae8d41fb7d2486c87083726a34a8ede"
          }
        },
        "a1148332a53e4561ad7048d549a77599": {
          "model_module": "@jupyter-widgets/controls",
          "model_name": "ProgressStyleModel",
          "state": {
            "_view_name": "StyleView",
            "_model_name": "ProgressStyleModel",
            "description_width": "initial",
            "_view_module": "@jupyter-widgets/base",
            "_model_module_version": "1.5.0",
            "_view_count": null,
            "_view_module_version": "1.2.0",
            "bar_color": null,
            "_model_module": "@jupyter-widgets/controls"
          }
        },
        "8a48d78aa20540998b3673b6255d55da": {
          "model_module": "@jupyter-widgets/base",
          "model_name": "LayoutModel",
          "state": {
            "_view_name": "LayoutView",
            "grid_template_rows": null,
            "right": null,
            "justify_content": null,
            "_view_module": "@jupyter-widgets/base",
            "overflow": null,
            "_model_module_version": "1.2.0",
            "_view_count": null,
            "flex_flow": null,
            "width": null,
            "min_width": null,
            "border": null,
            "align_items": null,
            "bottom": null,
            "_model_module": "@jupyter-widgets/base",
            "top": null,
            "grid_column": null,
            "overflow_y": null,
            "overflow_x": null,
            "grid_auto_flow": null,
            "grid_area": null,
            "grid_template_columns": null,
            "flex": null,
            "_model_name": "LayoutModel",
            "justify_items": null,
            "grid_row": null,
            "max_height": null,
            "align_content": null,
            "visibility": null,
            "align_self": null,
            "height": null,
            "min_height": null,
            "padding": null,
            "grid_auto_rows": null,
            "grid_gap": null,
            "max_width": null,
            "order": null,
            "_view_module_version": "1.2.0",
            "grid_template_areas": null,
            "object_position": null,
            "object_fit": null,
            "grid_auto_columns": null,
            "margin": null,
            "display": null,
            "left": null
          }
        },
        "c19805df136b40c286903770668c3742": {
          "model_module": "@jupyter-widgets/controls",
          "model_name": "DescriptionStyleModel",
          "state": {
            "_view_name": "StyleView",
            "_model_name": "DescriptionStyleModel",
            "description_width": "",
            "_view_module": "@jupyter-widgets/base",
            "_model_module_version": "1.5.0",
            "_view_count": null,
            "_view_module_version": "1.2.0",
            "_model_module": "@jupyter-widgets/controls"
          }
        },
        "dae8d41fb7d2486c87083726a34a8ede": {
          "model_module": "@jupyter-widgets/base",
          "model_name": "LayoutModel",
          "state": {
            "_view_name": "LayoutView",
            "grid_template_rows": null,
            "right": null,
            "justify_content": null,
            "_view_module": "@jupyter-widgets/base",
            "overflow": null,
            "_model_module_version": "1.2.0",
            "_view_count": null,
            "flex_flow": null,
            "width": null,
            "min_width": null,
            "border": null,
            "align_items": null,
            "bottom": null,
            "_model_module": "@jupyter-widgets/base",
            "top": null,
            "grid_column": null,
            "overflow_y": null,
            "overflow_x": null,
            "grid_auto_flow": null,
            "grid_area": null,
            "grid_template_columns": null,
            "flex": null,
            "_model_name": "LayoutModel",
            "justify_items": null,
            "grid_row": null,
            "max_height": null,
            "align_content": null,
            "visibility": null,
            "align_self": null,
            "height": null,
            "min_height": null,
            "padding": null,
            "grid_auto_rows": null,
            "grid_gap": null,
            "max_width": null,
            "order": null,
            "_view_module_version": "1.2.0",
            "grid_template_areas": null,
            "object_position": null,
            "object_fit": null,
            "grid_auto_columns": null,
            "margin": null,
            "display": null,
            "left": null
          }
        }
      }
    }
  },
  "cells": [
    {
      "cell_type": "markdown",
      "metadata": {
        "id": "view-in-github",
        "colab_type": "text"
      },
      "source": [
        "<a href=\"https://colab.research.google.com/github/YanisNC/Sentiment-Analysis-Multi-Label-Classification-E-Commerce-Reviews/blob/main/Sentiment_Analysis_Multi_label_Classification_on_E_Commerce_Reviews.ipynb\" target=\"_parent\"><img src=\"https://colab.research.google.com/assets/colab-badge.svg\" alt=\"Open In Colab\"/></a>"
      ]
    },
    {
      "cell_type": "markdown",
      "metadata": {
        "id": "9PanEhGvYgXn"
      },
      "source": [
        "# Sentiment Analysis Multi-label Classification on E-commerce Reviews\r\n",
        "\r\n",
        "- The dataset contains 10000 samples of reviews and ratings about a fashion e-commerce.\r\n",
        "\r\n",
        "- The reviews have been preprocessed using NLTK.\r\n",
        "\r\n",
        "- BERT has been used for fine-tuning training."
      ]
    },
    {
      "cell_type": "markdown",
      "metadata": {
        "id": "dpvAJLy8XesN"
      },
      "source": [
        "### Import libraries"
      ]
    },
    {
      "cell_type": "code",
      "metadata": {
        "id": "0feK_AQrd1QM"
      },
      "source": [
        "import numpy as np\n",
        "import matplotlib.pyplot as plt\n",
        "import seaborn as sns\n",
        "import pandas as pd\n",
        "import tensorflow as tf\n",
        "import nltk\n",
        "from nltk.corpus import stopwords\n",
        "import string"
      ],
      "execution_count": null,
      "outputs": []
    },
    {
      "cell_type": "code",
      "metadata": {
        "colab": {
          "base_uri": "https://localhost:8080/"
        },
        "id": "ZOXTUDSEvxyL",
        "outputId": "2b4e508c-c48a-4099-cd30-f80461cd91c1"
      },
      "source": [
        "nltk.download('stopwords')\r\n",
        "nltk.download('wordnet')\r\n",
        "nltk.download('punkt')"
      ],
      "execution_count": null,
      "outputs": [
        {
          "output_type": "stream",
          "text": [
            "[nltk_data] Downloading package stopwords to /root/nltk_data...\n",
            "[nltk_data]   Package stopwords is already up-to-date!\n",
            "[nltk_data] Downloading package wordnet to /root/nltk_data...\n",
            "[nltk_data]   Package wordnet is already up-to-date!\n",
            "[nltk_data] Downloading package punkt to /root/nltk_data...\n",
            "[nltk_data]   Unzipping tokenizers/punkt.zip.\n"
          ],
          "name": "stdout"
        },
        {
          "output_type": "execute_result",
          "data": {
            "text/plain": [
              "True"
            ]
          },
          "metadata": {
            "tags": []
          },
          "execution_count": 22
        }
      ]
    },
    {
      "cell_type": "code",
      "metadata": {
        "colab": {
          "base_uri": "https://localhost:8080/"
        },
        "id": "JDcODDUAeBEs",
        "outputId": "43ec12d4-2faa-41f5-a81b-0ec2b19af612"
      },
      "source": [
        "pip install transformers"
      ],
      "execution_count": null,
      "outputs": [
        {
          "output_type": "stream",
          "text": [
            "Collecting transformers\n",
            "\u001b[?25l  Downloading https://files.pythonhosted.org/packages/f9/54/5ca07ec9569d2f232f3166de5457b63943882f7950ddfcc887732fc7fb23/transformers-4.3.3-py3-none-any.whl (1.9MB)\n",
            "\u001b[K     |████████████████████████████████| 1.9MB 11.3MB/s \n",
            "\u001b[?25hRequirement already satisfied: numpy>=1.17 in /usr/local/lib/python3.7/dist-packages (from transformers) (1.19.5)\n",
            "Collecting sacremoses\n",
            "\u001b[?25l  Downloading https://files.pythonhosted.org/packages/7d/34/09d19aff26edcc8eb2a01bed8e98f13a1537005d31e95233fd48216eed10/sacremoses-0.0.43.tar.gz (883kB)\n",
            "\u001b[K     |████████████████████████████████| 890kB 54.3MB/s \n",
            "\u001b[?25hRequirement already satisfied: packaging in /usr/local/lib/python3.7/dist-packages (from transformers) (20.9)\n",
            "Requirement already satisfied: tqdm>=4.27 in /usr/local/lib/python3.7/dist-packages (from transformers) (4.41.1)\n",
            "Collecting tokenizers<0.11,>=0.10.1\n",
            "\u001b[?25l  Downloading https://files.pythonhosted.org/packages/71/23/2ddc317b2121117bf34dd00f5b0de194158f2a44ee2bf5e47c7166878a97/tokenizers-0.10.1-cp37-cp37m-manylinux2010_x86_64.whl (3.2MB)\n",
            "\u001b[K     |████████████████████████████████| 3.2MB 36.1MB/s \n",
            "\u001b[?25hRequirement already satisfied: importlib-metadata; python_version < \"3.8\" in /usr/local/lib/python3.7/dist-packages (from transformers) (3.7.0)\n",
            "Requirement already satisfied: filelock in /usr/local/lib/python3.7/dist-packages (from transformers) (3.0.12)\n",
            "Requirement already satisfied: regex!=2019.12.17 in /usr/local/lib/python3.7/dist-packages (from transformers) (2019.12.20)\n",
            "Requirement already satisfied: requests in /usr/local/lib/python3.7/dist-packages (from transformers) (2.23.0)\n",
            "Requirement already satisfied: six in /usr/local/lib/python3.7/dist-packages (from sacremoses->transformers) (1.15.0)\n",
            "Requirement already satisfied: click in /usr/local/lib/python3.7/dist-packages (from sacremoses->transformers) (7.1.2)\n",
            "Requirement already satisfied: joblib in /usr/local/lib/python3.7/dist-packages (from sacremoses->transformers) (1.0.1)\n",
            "Requirement already satisfied: pyparsing>=2.0.2 in /usr/local/lib/python3.7/dist-packages (from packaging->transformers) (2.4.7)\n",
            "Requirement already satisfied: zipp>=0.5 in /usr/local/lib/python3.7/dist-packages (from importlib-metadata; python_version < \"3.8\"->transformers) (3.4.0)\n",
            "Requirement already satisfied: typing-extensions>=3.6.4; python_version < \"3.8\" in /usr/local/lib/python3.7/dist-packages (from importlib-metadata; python_version < \"3.8\"->transformers) (3.7.4.3)\n",
            "Requirement already satisfied: certifi>=2017.4.17 in /usr/local/lib/python3.7/dist-packages (from requests->transformers) (2020.12.5)\n",
            "Requirement already satisfied: idna<3,>=2.5 in /usr/local/lib/python3.7/dist-packages (from requests->transformers) (2.10)\n",
            "Requirement already satisfied: chardet<4,>=3.0.2 in /usr/local/lib/python3.7/dist-packages (from requests->transformers) (3.0.4)\n",
            "Requirement already satisfied: urllib3!=1.25.0,!=1.25.1,<1.26,>=1.21.1 in /usr/local/lib/python3.7/dist-packages (from requests->transformers) (1.24.3)\n",
            "Building wheels for collected packages: sacremoses\n",
            "  Building wheel for sacremoses (setup.py) ... \u001b[?25l\u001b[?25hdone\n",
            "  Created wheel for sacremoses: filename=sacremoses-0.0.43-cp37-none-any.whl size=893262 sha256=23854776a4fe8e2272ffd8deac6c72bc9e165d914acf28689d8aefa984328532\n",
            "  Stored in directory: /root/.cache/pip/wheels/29/3c/fd/7ce5c3f0666dab31a50123635e6fb5e19ceb42ce38d4e58f45\n",
            "Successfully built sacremoses\n",
            "Installing collected packages: sacremoses, tokenizers, transformers\n",
            "Successfully installed sacremoses-0.0.43 tokenizers-0.10.1 transformers-4.3.3\n"
          ],
          "name": "stdout"
        }
      ]
    },
    {
      "cell_type": "markdown",
      "metadata": {
        "id": "nt4bayVXXizJ"
      },
      "source": [
        "### Import dataset"
      ]
    },
    {
      "cell_type": "code",
      "metadata": {
        "id": "1SLzDrm9d1QT"
      },
      "source": [
        "df = pd.read_csv(\"ratings.csv\", sep=',')"
      ],
      "execution_count": null,
      "outputs": []
    },
    {
      "cell_type": "code",
      "metadata": {
        "scrolled": true,
        "colab": {
          "base_uri": "https://localhost:8080/",
          "height": 204
        },
        "id": "poAfUC5zd1QU",
        "outputId": "2fc2fbc9-f929-4d80-b601-6f08bf9293bc"
      },
      "source": [
        "df.head()"
      ],
      "execution_count": null,
      "outputs": [
        {
          "output_type": "execute_result",
          "data": {
            "text/html": [
              "<div>\n",
              "<style scoped>\n",
              "    .dataframe tbody tr th:only-of-type {\n",
              "        vertical-align: middle;\n",
              "    }\n",
              "\n",
              "    .dataframe tbody tr th {\n",
              "        vertical-align: top;\n",
              "    }\n",
              "\n",
              "    .dataframe thead th {\n",
              "        text-align: right;\n",
              "    }\n",
              "</style>\n",
              "<table border=\"1\" class=\"dataframe\">\n",
              "  <thead>\n",
              "    <tr style=\"text-align: right;\">\n",
              "      <th></th>\n",
              "      <th>TEXT</th>\n",
              "      <th>RATING</th>\n",
              "    </tr>\n",
              "  </thead>\n",
              "  <tbody>\n",
              "    <tr>\n",
              "      <th>0</th>\n",
              "      <td>The shirt was more of a smock. I expected a so...</td>\n",
              "      <td>1</td>\n",
              "    </tr>\n",
              "    <tr>\n",
              "      <th>1</th>\n",
              "      <td>The shirt was more of a smock. I expected a so...</td>\n",
              "      <td>1</td>\n",
              "    </tr>\n",
              "    <tr>\n",
              "      <th>2</th>\n",
              "      <td>The shirt was more of a smock. I expected a so...</td>\n",
              "      <td>1</td>\n",
              "    </tr>\n",
              "    <tr>\n",
              "      <th>3</th>\n",
              "      <td>Just received my order today. When I opened th...</td>\n",
              "      <td>1</td>\n",
              "    </tr>\n",
              "    <tr>\n",
              "      <th>4</th>\n",
              "      <td>First of all, the button hole on this belt nev...</td>\n",
              "      <td>1</td>\n",
              "    </tr>\n",
              "  </tbody>\n",
              "</table>\n",
              "</div>"
            ],
            "text/plain": [
              "                                                TEXT  RATING\n",
              "0  The shirt was more of a smock. I expected a so...       1\n",
              "1  The shirt was more of a smock. I expected a so...       1\n",
              "2  The shirt was more of a smock. I expected a so...       1\n",
              "3  Just received my order today. When I opened th...       1\n",
              "4  First of all, the button hole on this belt nev...       1"
            ]
          },
          "metadata": {
            "tags": []
          },
          "execution_count": 6
        }
      ]
    },
    {
      "cell_type": "markdown",
      "metadata": {
        "id": "60-QvXxcX03G"
      },
      "source": [
        "### Exploratory Data Analysis"
      ]
    },
    {
      "cell_type": "markdown",
      "metadata": {
        "id": "C5ZnFWoHd1QV"
      },
      "source": [
        "The first three rows are identical. Let's remove duplicate rows."
      ]
    },
    {
      "cell_type": "code",
      "metadata": {
        "scrolled": true,
        "colab": {
          "base_uri": "https://localhost:8080/"
        },
        "id": "YHg9VoBid1QW",
        "outputId": "8a7dbcee-4f07-4c7c-a2b7-73d5966a4234"
      },
      "source": [
        "df.shape"
      ],
      "execution_count": null,
      "outputs": [
        {
          "output_type": "execute_result",
          "data": {
            "text/plain": [
              "(10000, 2)"
            ]
          },
          "metadata": {
            "tags": []
          },
          "execution_count": 7
        }
      ]
    },
    {
      "cell_type": "code",
      "metadata": {
        "scrolled": true,
        "id": "ZmggiHJ9d1QW"
      },
      "source": [
        "df = df.drop_duplicates()"
      ],
      "execution_count": null,
      "outputs": []
    },
    {
      "cell_type": "code",
      "metadata": {
        "colab": {
          "base_uri": "https://localhost:8080/"
        },
        "id": "AxbX5199d1QW",
        "outputId": "9a957aab-4937-428f-c77f-d1f14fa78e71"
      },
      "source": [
        "df.shape"
      ],
      "execution_count": null,
      "outputs": [
        {
          "output_type": "execute_result",
          "data": {
            "text/plain": [
              "(3467, 2)"
            ]
          },
          "metadata": {
            "tags": []
          },
          "execution_count": 9
        }
      ]
    },
    {
      "cell_type": "code",
      "metadata": {
        "colab": {
          "base_uri": "https://localhost:8080/"
        },
        "id": "UJ_HzywL4w5_",
        "outputId": "c092f76f-95df-4083-c5f2-bdcc32699c69"
      },
      "source": [
        "# Check if there are any NaN values.\r\n",
        "df.isna().any()"
      ],
      "execution_count": null,
      "outputs": [
        {
          "output_type": "execute_result",
          "data": {
            "text/plain": [
              "TEXT      False\n",
              "RATING    False\n",
              "dtype: bool"
            ]
          },
          "metadata": {
            "tags": []
          },
          "execution_count": 10
        }
      ]
    },
    {
      "cell_type": "markdown",
      "metadata": {
        "id": "FJqwEORMd1QX"
      },
      "source": [
        "As we can see, 6533 rows are duplicated. These rows must be removed to avoid overfitting."
      ]
    },
    {
      "cell_type": "code",
      "metadata": {
        "colab": {
          "base_uri": "https://localhost:8080/",
          "height": 279
        },
        "id": "8rzvvAuld1QX",
        "outputId": "e2c02033-c389-4c02-cadf-3ef20046f870"
      },
      "source": [
        "sns.countplot(x=df[\"RATING\"])\n",
        "plt.show()"
      ],
      "execution_count": null,
      "outputs": [
        {
          "output_type": "display_data",
          "data": {
            "image/png": "[encoded data removed]",
            "text/plain": [
              "<Figure size 432x288 with 1 Axes>"
            ]
          },
          "metadata": {
            "tags": [],
            "needs_background": "light"
          }
        }
      ]
    },
    {
      "cell_type": "markdown",
      "metadata": {
        "id": "Tywtgf6mYHgM"
      },
      "source": [
        "The classes are quite balanced"
      ]
    },
    {
      "cell_type": "markdown",
      "metadata": {
        "id": "yFFIWnpog7pR"
      },
      "source": [
        " #### Analyze the labels"
      ]
    },
    {
      "cell_type": "code",
      "metadata": {
        "colab": {
          "base_uri": "https://localhost:8080/"
        },
        "id": "0AMXmJe1hCFZ",
        "outputId": "ad3f8ae7-4a9c-4b0b-81fe-bef4957ff899"
      },
      "source": [
        "df[\"RATING\"].unique()"
      ],
      "execution_count": null,
      "outputs": [
        {
          "output_type": "execute_result",
          "data": {
            "text/plain": [
              "array([1, 2, 3, 5, 4])"
            ]
          },
          "metadata": {
            "tags": []
          },
          "execution_count": 12
        }
      ]
    },
    {
      "cell_type": "code",
      "metadata": {
        "colab": {
          "base_uri": "https://localhost:8080/"
        },
        "id": "C5orJMQphXth",
        "outputId": "aae45ae5-5f56-44d1-e113-a9766267631a"
      },
      "source": [
        "# Let's change it so it starts at 0\r\n",
        "df[\"RATING\"] = df[\"RATING\"] - 1\r\n",
        "\r\n",
        "df[\"RATING\"].unique()"
      ],
      "execution_count": null,
      "outputs": [
        {
          "output_type": "execute_result",
          "data": {
            "text/plain": [
              "array([0, 1, 2, 4, 3])"
            ]
          },
          "metadata": {
            "tags": []
          },
          "execution_count": 13
        }
      ]
    },
    {
      "cell_type": "code",
      "metadata": {
        "colab": {
          "base_uri": "https://localhost:8080/",
          "height": 279
        },
        "id": "RsFS4ZaIpnhS",
        "outputId": "b1d206cd-4fe4-4e0f-c44e-0ff3838f2e3b"
      },
      "source": [
        "sns.countplot(x=df[\"RATING\"])\r\n",
        "plt.show()"
      ],
      "execution_count": null,
      "outputs": [
        {
          "output_type": "display_data",
          "data": {
            "image/png": "[encoded data removed]",
            "text/plain": [
              "<Figure size 432x288 with 1 Axes>"
            ]
          },
          "metadata": {
            "tags": [],
            "needs_background": "light"
          }
        }
      ]
    },
    {
      "cell_type": "code",
      "metadata": {
        "id": "gdRvwRe0w7cH"
      },
      "source": [
        "rating_1 = []\r\n",
        "for review in df.loc[df[\"RATING\"] == 0][\"TEXT\"]:\r\n",
        "  token = nltk.word_tokenize(review)\r\n",
        "  rating_1.extend(token)"
      ],
      "execution_count": null,
      "outputs": []
    },
    {
      "cell_type": "code",
      "metadata": {
        "colab": {
          "base_uri": "https://localhost:8080/",
          "height": 414
        },
        "id": "VLcxCXJCuRvY",
        "outputId": "75d7497e-9843-4d1c-ce45-566e26f7cbe8"
      },
      "source": [
        " #calculate word frequency\r\n",
        " plt.figure(figsize=(10,6))\r\n",
        "\r\n",
        "freq = nltk.FreqDist(rating_1)\r\n",
        "freq.plot(5, cumulative=False)\r\n",
        "plt.show()"
      ],
      "execution_count": null,
      "outputs": [
        {
          "output_type": "stream",
          "text": [
            "<FreqDist with 3267 samples and 31599 outcomes>\n"
          ],
          "name": "stdout"
        },
        {
          "output_type": "display_data",
          "data": {
            "image/png": "[encoded data removed]",
            "text/plain": [
              "<Figure size 720x432 with 1 Axes>"
            ]
          },
          "metadata": {
            "tags": [],
            "needs_background": "light"
          }
        }
      ]
    },
    {
      "cell_type": "markdown",
      "metadata": {
        "id": "C-6yYHTC3haP"
      },
      "source": [
        "### Data Preprocessing"
      ]
    },
    {
      "cell_type": "markdown",
      "metadata": {
        "id": "H9UJCZJ8XeW6"
      },
      "source": [
        "<img src=https://miro.medium.com/max/700/0*plzLfemOxB1ftrKJ width=\"600\">"
      ]
    },
    {
      "cell_type": "markdown",
      "metadata": {
        "id": "nJGG1aKU_vfz"
      },
      "source": [
        "##### An example for each sentiment"
      ]
    },
    {
      "cell_type": "code",
      "metadata": {
        "colab": {
          "base_uri": "https://localhost:8080/"
        },
        "id": "KrxHHIBk-v3l",
        "outputId": "a5a13728-830c-4f13-f5f4-8e32227f4335"
      },
      "source": [
        "print(\"Rating 1 :\",df[df['RATING']==0]['TEXT'].values[0])\r\n",
        "print(\"Rating 2 :\",df[df['RATING']==1]['TEXT'].values[0])\r\n",
        "print(\"Rating 3 :\",df[df['RATING']==2]['TEXT'].values[0])\r\n",
        "print(\"Rating 4 :\",df[df['RATING']==3]['TEXT'].values[0])\r\n",
        "print(\"Rating 5 :\",df[df['RATING']==4]['TEXT'].values[0])"
      ],
      "execution_count": null,
      "outputs": [
        {
          "output_type": "stream",
          "text": [
            "Rating 1 : The shirt was more of a smock. I expected a soft little cotton t shirt, but I suppose it\\'s my fault for not reading the description carefully. Also, the white shirt was completely see through. I returned mine.\"}},{r:{id:46830320,si:1,pi:10860142,mu:\"{f7dedd4c-02d2-49ba-9553-4f9be0bdb9e5}\n",
            "Rating 2 : I liked the shirt. it\\'s pretty. but I couldn\\'t fit my arms in the shirt. the sleeves are too tight. get a size bigger if you don\\'t have twig arms\"}},{r:{id:47933895,si:1,v:3,t:3,r:1,h:\"Not what I expected\n",
            "Rating 3 : I was really excited to see this in mail today, but got very disappointed right after trying it. I'm a petite 5 ft. 3\\\n",
            "Rating 4 : I really like this dress! It\\'s so comfortable, the colors are great for the summer, and it flows so nicely! I wore it to work &amp; to a night lounge dressed up with wedges! I got many compliments! \n",
            "Rating 5 : This dress is absolutely wonderful. Was afraid it might be too long for me, but the length is perfect! Dont even need to wear heels with it. Im 5\\'4 and i got it in S.\"}},{r:{id:74223533,si:1,pi:16960075,dp:true,mu:\"maharaibsyed013@gmail.com\n"
          ],
          "name": "stdout"
        }
      ]
    },
    {
      "cell_type": "code",
      "metadata": {
        "id": "WF1iHlpFvYUe"
      },
      "source": [
        "def text_preprocessing(row):\r\n",
        "\r\n",
        "  #lowercase\r\n",
        "  row = row.lower()\r\n",
        "\r\n",
        "  #stopwords\r\n",
        "  stop_words = set(stopwords.words('english'))\r\n",
        "  row = ' '.join([word for word in row.split() if word not in (stop_words)])\r\n",
        "\r\n",
        "  #punctuation\r\n",
        "  punctuation = set(string.punctuation)\r\n",
        "  row = ''.join(ch for ch in row if ch not in punctuation)\r\n",
        "\r\n",
        "  #lemmatization\r\n",
        "  wn = nltk.WordNetLemmatizer()\r\n",
        "  row = ' '.join([wn.lemmatize(word) for word in row.split()])\r\n",
        "\r\n",
        "  return row"
      ],
      "execution_count": null,
      "outputs": []
    },
    {
      "cell_type": "code",
      "metadata": {
        "id": "ONnWgNnm3IPN"
      },
      "source": [
        "df_clean = df.copy()"
      ],
      "execution_count": null,
      "outputs": []
    },
    {
      "cell_type": "code",
      "metadata": {
        "id": "-_gvfTF3vcK2"
      },
      "source": [
        "df_clean['TEXT'] = df_clean['TEXT'].apply(str).apply(lambda x: text_preprocessing(x))"
      ],
      "execution_count": null,
      "outputs": []
    },
    {
      "cell_type": "code",
      "metadata": {
        "colab": {
          "base_uri": "https://localhost:8080/",
          "height": 204
        },
        "id": "muuAkjG5vwC6",
        "outputId": "4ed32883-25d8-4a01-9b96-d84325cb1564"
      },
      "source": [
        "df_clean.head()"
      ],
      "execution_count": null,
      "outputs": [
        {
          "output_type": "execute_result",
          "data": {
            "text/html": [
              "<div>\n",
              "<style scoped>\n",
              "    .dataframe tbody tr th:only-of-type {\n",
              "        vertical-align: middle;\n",
              "    }\n",
              "\n",
              "    .dataframe tbody tr th {\n",
              "        vertical-align: top;\n",
              "    }\n",
              "\n",
              "    .dataframe thead th {\n",
              "        text-align: right;\n",
              "    }\n",
              "</style>\n",
              "<table border=\"1\" class=\"dataframe\">\n",
              "  <thead>\n",
              "    <tr style=\"text-align: right;\">\n",
              "      <th></th>\n",
              "      <th>TEXT</th>\n",
              "      <th>RATING</th>\n",
              "    </tr>\n",
              "  </thead>\n",
              "  <tbody>\n",
              "    <tr>\n",
              "      <th>0</th>\n",
              "      <td>shirt smock expected soft little cotton shirt ...</td>\n",
              "      <td>0</td>\n",
              "    </tr>\n",
              "    <tr>\n",
              "      <th>3</th>\n",
              "      <td>received order today opened package appeared u...</td>\n",
              "      <td>0</td>\n",
              "    </tr>\n",
              "    <tr>\n",
              "      <th>4</th>\n",
              "      <td>first all button hole belt never matched size ...</td>\n",
              "      <td>0</td>\n",
              "    </tr>\n",
              "    <tr>\n",
              "      <th>5</th>\n",
              "      <td>didnt hold anything obvious</td>\n",
              "      <td>0</td>\n",
              "    </tr>\n",
              "    <tr>\n",
              "      <th>6</th>\n",
              "      <td>nothing else needed say</td>\n",
              "      <td>0</td>\n",
              "    </tr>\n",
              "  </tbody>\n",
              "</table>\n",
              "</div>"
            ],
            "text/plain": [
              "                                                TEXT  RATING\n",
              "0  shirt smock expected soft little cotton shirt ...       0\n",
              "3  received order today opened package appeared u...       0\n",
              "4  first all button hole belt never matched size ...       0\n",
              "5                        didnt hold anything obvious       0\n",
              "6                            nothing else needed say       0"
            ]
          },
          "metadata": {
            "tags": []
          },
          "execution_count": 103
        }
      ]
    },
    {
      "cell_type": "code",
      "metadata": {
        "colab": {
          "base_uri": "https://localhost:8080/",
          "height": 204
        },
        "id": "PoUEvZuv6Np-",
        "outputId": "0ffe0c73-bf7d-4157-cad4-c028ec9ae3dc"
      },
      "source": [
        "df.head()"
      ],
      "execution_count": null,
      "outputs": [
        {
          "output_type": "execute_result",
          "data": {
            "text/html": [
              "<div>\n",
              "<style scoped>\n",
              "    .dataframe tbody tr th:only-of-type {\n",
              "        vertical-align: middle;\n",
              "    }\n",
              "\n",
              "    .dataframe tbody tr th {\n",
              "        vertical-align: top;\n",
              "    }\n",
              "\n",
              "    .dataframe thead th {\n",
              "        text-align: right;\n",
              "    }\n",
              "</style>\n",
              "<table border=\"1\" class=\"dataframe\">\n",
              "  <thead>\n",
              "    <tr style=\"text-align: right;\">\n",
              "      <th></th>\n",
              "      <th>TEXT</th>\n",
              "      <th>RATING</th>\n",
              "    </tr>\n",
              "  </thead>\n",
              "  <tbody>\n",
              "    <tr>\n",
              "      <th>0</th>\n",
              "      <td>The shirt was more of a smock. I expected a so...</td>\n",
              "      <td>0</td>\n",
              "    </tr>\n",
              "    <tr>\n",
              "      <th>3</th>\n",
              "      <td>Just received my order today. When I opened th...</td>\n",
              "      <td>0</td>\n",
              "    </tr>\n",
              "    <tr>\n",
              "      <th>4</th>\n",
              "      <td>First of all, the button hole on this belt nev...</td>\n",
              "      <td>0</td>\n",
              "    </tr>\n",
              "    <tr>\n",
              "      <th>5</th>\n",
              "      <td>these didnt hold anything up and was obvious i...</td>\n",
              "      <td>0</td>\n",
              "    </tr>\n",
              "    <tr>\n",
              "      <th>6</th>\n",
              "      <td>Nothing else needed to say</td>\n",
              "      <td>0</td>\n",
              "    </tr>\n",
              "  </tbody>\n",
              "</table>\n",
              "</div>"
            ],
            "text/plain": [
              "                                                TEXT  RATING\n",
              "0  The shirt was more of a smock. I expected a so...       0\n",
              "3  Just received my order today. When I opened th...       0\n",
              "4  First of all, the button hole on this belt nev...       0\n",
              "5  these didnt hold anything up and was obvious i...       0\n",
              "6                         Nothing else needed to say       0"
            ]
          },
          "metadata": {
            "tags": []
          },
          "execution_count": 104
        }
      ]
    },
    {
      "cell_type": "markdown",
      "metadata": {
        "id": "BghX-TZTYzII"
      },
      "source": [
        "Comparing the text before and after preprocessing"
      ]
    },
    {
      "cell_type": "code",
      "metadata": {
        "colab": {
          "base_uri": "https://localhost:8080/"
        },
        "id": "ISHl8cgLCOzN",
        "outputId": "c3d5aa99-6457-479a-bb63-9cace0d91e39"
      },
      "source": [
        "print(\"Rating 1 :\",df[df['RATING']==0]['TEXT'].values[0])\r\n",
        "print(\"Rating 2 :\",df[df['RATING']==1]['TEXT'].values[0])\r\n",
        "print(\"Rating 3 :\",df[df['RATING']==2]['TEXT'].values[0])\r\n",
        "print(\"Rating 4 :\",df[df['RATING']==3]['TEXT'].values[0])\r\n",
        "print(\"Rating 5 :\",df[df['RATING']==4]['TEXT'].values[0])\r\n",
        "print(\"------------------------------------------------------------------------------------------------------------------------------------------------------------------\")\r\n",
        "print(\"Rating 1 :\",df_clean[df_clean['RATING']==0]['TEXT'].values[0])\r\n",
        "print(\"Rating 2 :\",df_clean[df_clean['RATING']==1]['TEXT'].values[0])\r\n",
        "print(\"Rating 3 :\",df_clean[df_clean['RATING']==2]['TEXT'].values[0])\r\n",
        "print(\"Rating 4 :\",df_clean[df_clean['RATING']==3]['TEXT'].values[0])\r\n",
        "print(\"Rating 5 :\",df_clean[df_clean['RATING']==4]['TEXT'].values[0])"
      ],
      "execution_count": null,
      "outputs": [
        {
          "output_type": "stream",
          "text": [
            "Rating 1 : The shirt was more of a smock. I expected a soft little cotton t shirt, but I suppose it\\'s my fault for not reading the description carefully. Also, the white shirt was completely see through. I returned mine.\"}},{r:{id:46830320,si:1,pi:10860142,mu:\"{f7dedd4c-02d2-49ba-9553-4f9be0bdb9e5}\n",
            "Rating 2 : I liked the shirt. it\\'s pretty. but I couldn\\'t fit my arms in the shirt. the sleeves are too tight. get a size bigger if you don\\'t have twig arms\"}},{r:{id:47933895,si:1,v:3,t:3,r:1,h:\"Not what I expected\n",
            "Rating 3 : I was really excited to see this in mail today, but got very disappointed right after trying it. I'm a petite 5 ft. 3\\\n",
            "Rating 4 : I really like this dress! It\\'s so comfortable, the colors are great for the summer, and it flows so nicely! I wore it to work &amp; to a night lounge dressed up with wedges! I got many compliments! \n",
            "Rating 5 : This dress is absolutely wonderful. Was afraid it might be too long for me, but the length is perfect! Dont even need to wear heels with it. Im 5\\'4 and i got it in S.\"}},{r:{id:74223533,si:1,pi:16960075,dp:true,mu:\"maharaibsyed013@gmail.com\n",
            "------------------------------------------------------------------------------------------------------------------------------------------------------------------\n",
            "Rating 1 : shirt smock expected soft little cotton shirt suppose it fault reading description carefully also white shirt completely see through returned minerid46830320si1pi10860142muf7dedd4c02d249ba95534f9be0bdb9e5\n",
            "Rating 2 : liked shirt it pretty couldnt fit arm shirt sleeve tight get size bigger dont twig armsrid47933895si1v3t3r1hnot expected\n",
            "Rating 3 : really excited see mail today got disappointed right trying it im petite 5 ft 3\n",
            "Rating 4 : really like dress it comfortable color great summer flow nicely wore work amp night lounge dressed wedge got many compliment\n",
            "Rating 5 : dress absolutely wonderful afraid might long me length perfect dont even need wear heel it im 54 got srid74223533si1pi16960075dptruemumaharaibsyed013gmailcom\n"
          ],
          "name": "stdout"
        }
      ]
    },
    {
      "cell_type": "markdown",
      "metadata": {
        "id": "lW1L4V3i7hp_"
      },
      "source": [
        "Plot the predominant words of each class"
      ]
    },
    {
      "cell_type": "code",
      "metadata": {
        "id": "zUV2G3NX7p64"
      },
      "source": [
        "rating_1 = []\r\n",
        "for review in df_clean.loc[df_clean[\"RATING\"] == 0][\"TEXT\"]:\r\n",
        "  token = nltk.word_tokenize(review)\r\n",
        "  rating_1.extend(token)\r\n",
        "\r\n",
        "rating_2 = []\r\n",
        "for review in df_clean.loc[df_clean[\"RATING\"] == 1][\"TEXT\"]:\r\n",
        "  token = nltk.word_tokenize(review)\r\n",
        "  rating_2.extend(token)\r\n",
        "\r\n",
        "rating_3 = []\r\n",
        "for review in df_clean.loc[df_clean[\"RATING\"] == 2][\"TEXT\"]:\r\n",
        "  token = nltk.word_tokenize(review)\r\n",
        "  rating_3.extend(token)\r\n",
        "\r\n",
        "rating_4 = []\r\n",
        "for review in df_clean.loc[df_clean[\"RATING\"] == 3][\"TEXT\"]:\r\n",
        "  token = nltk.word_tokenize(review)\r\n",
        "  rating_4.extend(token)\r\n",
        "\r\n",
        "rating_5 = []\r\n",
        "for review in df_clean.loc[df_clean[\"RATING\"] == 4][\"TEXT\"]:\r\n",
        "  token = nltk.word_tokenize(review)\r\n",
        "  rating_5.extend(token)"
      ],
      "execution_count": null,
      "outputs": []
    },
    {
      "cell_type": "code",
      "metadata": {
        "colab": {
          "base_uri": "https://localhost:8080/",
          "height": 1000
        },
        "id": "uOdM_FuB7okJ",
        "outputId": "2795fa92-a0b2-40a1-a41f-a2076a22d364"
      },
      "source": [
        "# Word frequency\r\n",
        "\r\n",
        "freq_1 = nltk.FreqDist(rating_1)\r\n",
        "freq_2 = nltk.FreqDist(rating_2)\r\n",
        "freq_3 = nltk.FreqDist(rating_3)\r\n",
        "freq_4 = nltk.FreqDist(rating_4)\r\n",
        "freq_5 = nltk.FreqDist(rating_5)\r\n",
        "\r\n",
        "freq_1.plot(5, cumulative=False, title=\"Rating 1/5\")\r\n",
        "freq_2.plot(5, cumulative=False, title=\"Rating 2/5\")\r\n",
        "freq_3.plot(5, cumulative=False, title=\"Rating 3/5\")\r\n",
        "freq_4.plot(5, cumulative=False, title=\"Rating 4/5\")\r\n",
        "freq_5.plot(5, cumulative=False, title=\"Rating 5/5\")\r\n",
        "plt.show()"
      ],
      "execution_count": null,
      "outputs": [
        {
          "output_type": "display_data",
          "data": {
            "image/png": "[encoded data removed]",
            "text/plain": [
              "<Figure size 432x288 with 1 Axes>"
            ]
          },
          "metadata": {
            "tags": [],
            "needs_background": "light"
          }
        },
        {
          "output_type": "display_data",
          "data": {
            "image/png": "[encoded data removed]",
            "text/plain": [
              "<Figure size 432x288 with 1 Axes>"
            ]
          },
          "metadata": {
            "tags": [],
            "needs_background": "light"
          }
        },
        {
          "output_type": "display_data",
          "data": {
            "image/png": "[encoded data removed]",
            "text/plain": [
              "<Figure size 432x288 with 1 Axes>"
            ]
          },
          "metadata": {
            "tags": [],
            "needs_background": "light"
          }
        },
        {
          "output_type": "display_data",
          "data": {
            "image/png": "[encoded data removed]",
            "text/plain": [
              "<Figure size 432x288 with 1 Axes>"
            ]
          },
          "metadata": {
            "tags": [],
            "needs_background": "light"
          }
        },
        {
          "output_type": "display_data",
          "data": {
            "image/png": "[encoded data removed]",
            "text/plain": [
              "<Figure size 432x288 with 1 Axes>"
            ]
          },
          "metadata": {
            "tags": [],
            "needs_background": "light"
          }
        }
      ]
    },
    {
      "cell_type": "markdown",
      "metadata": {
        "id": "IRLdHa1_Y-jg"
      },
      "source": [
        "### Training our model using Transfer Learning"
      ]
    },
    {
      "cell_type": "markdown",
      "metadata": {
        "id": "QgMvyEm8edAZ"
      },
      "source": [
        "Import BERT from the transformers library"
      ]
    },
    {
      "cell_type": "code",
      "metadata": {
        "colab": {
          "base_uri": "https://localhost:8080/",
          "height": 232,
          "referenced_widgets": [
            "93dd867f6c424abf986a39e6d16aa389",
            "92b219d31d89435da2793956431c0215",
            "e6df8030d3ca4e85a4d197d7c1268d78",
            "2c7c06e8e7374c33a3433765dad28667",
            "9191dad4453544388092bdac04522114",
            "0b3ca3afad23462180cc47208227d0f9",
            "d3da291fcd784edea6b3db29c799cfa0",
            "4ce78e8e3eea45b5b2b815515f64afd7",
            "de2f20f766bd40b39f8c3cce077d1207",
            "528e15a242e140a7aea4377f3a8860e9",
            "d146333b63624bfe98163ad89bdcaaf3",
            "0f340f2eca6749188812e2f212b94b1b",
            "2f3ada5798734d73b3b99306c14d28d0",
            "6eb0d451d694459194022a982c504dc3",
            "6478c92973bb4e0d933af010e865ef59",
            "b1dd7340424c4611aeefc485d5ee5358",
            "9320ce02c1684ef29557b7ce9bae9e7d",
            "94d6964281914b029c70996a727c5092",
            "08f4f7a1d20f420eaf8289c3ca4ddcac",
            "eeb1247c1db2481daff83dc07d98a949",
            "a1148332a53e4561ad7048d549a77599",
            "8a48d78aa20540998b3673b6255d55da",
            "c19805df136b40c286903770668c3742",
            "dae8d41fb7d2486c87083726a34a8ede"
          ]
        },
        "id": "bueOt3Y_egb3",
        "outputId": "cbe29ade-044e-49d1-cb36-ebe80a825c7a"
      },
      "source": [
        "from transformers import BertConfig, BertTokenizer, TFBertForSequenceClassification, InputExample, InputFeatures\r\n",
        "\r\n",
        "config = BertConfig.from_pretrained(\"bert-base-uncased\", hidden_dropout_prob=0.5, num_labels=5)\r\n",
        "model = TFBertForSequenceClassification.from_pretrained(\"bert-base-uncased\", config=config)\r\n",
        "tokenizer = BertTokenizer.from_pretrained(\"bert-base-uncased\")"
      ],
      "execution_count": null,
      "outputs": [
        {
          "output_type": "display_data",
          "data": {
            "application/vnd.jupyter.widget-view+json": {
              "model_id": "93dd867f6c424abf986a39e6d16aa389",
              "version_minor": 0,
              "version_major": 2
            },
            "text/plain": [
              "HBox(children=(FloatProgress(value=0.0, description='Downloading', max=433.0, style=ProgressStyle(description_…"
            ]
          },
          "metadata": {
            "tags": []
          }
        },
        {
          "output_type": "stream",
          "text": [
            "\n"
          ],
          "name": "stdout"
        },
        {
          "output_type": "display_data",
          "data": {
            "application/vnd.jupyter.widget-view+json": {
              "model_id": "de2f20f766bd40b39f8c3cce077d1207",
              "version_minor": 0,
              "version_major": 2
            },
            "text/plain": [
              "HBox(children=(FloatProgress(value=0.0, description='Downloading', max=536063208.0, style=ProgressStyle(descri…"
            ]
          },
          "metadata": {
            "tags": []
          }
        },
        {
          "output_type": "stream",
          "text": [
            "\n"
          ],
          "name": "stdout"
        },
        {
          "output_type": "stream",
          "text": [
            "All model checkpoint layers were used when initializing TFBertForSequenceClassification.\n",
            "\n",
            "Some layers of TFBertForSequenceClassification were not initialized from the model checkpoint at bert-base-uncased and are newly initialized: ['classifier']\n",
            "You should probably TRAIN this model on a down-stream task to be able to use it for predictions and inference.\n"
          ],
          "name": "stderr"
        },
        {
          "output_type": "display_data",
          "data": {
            "application/vnd.jupyter.widget-view+json": {
              "model_id": "9320ce02c1684ef29557b7ce9bae9e7d",
              "version_minor": 0,
              "version_major": 2
            },
            "text/plain": [
              "HBox(children=(FloatProgress(value=0.0, description='Downloading', max=231508.0, style=ProgressStyle(descripti…"
            ]
          },
          "metadata": {
            "tags": []
          }
        },
        {
          "output_type": "stream",
          "text": [
            "\n"
          ],
          "name": "stdout"
        }
      ]
    },
    {
      "cell_type": "code",
      "metadata": {
        "colab": {
          "base_uri": "https://localhost:8080/"
        },
        "id": "JOGMQdlfeoLQ",
        "outputId": "91feb649-8042-4b21-9d40-ce45c998265e"
      },
      "source": [
        "model.summary()"
      ],
      "execution_count": null,
      "outputs": [
        {
          "output_type": "stream",
          "text": [
            "Model: \"tf_bert_for_sequence_classification\"\n",
            "_________________________________________________________________\n",
            "Layer (type)                 Output Shape              Param #   \n",
            "=================================================================\n",
            "bert (TFBertMainLayer)       multiple                  109482240 \n",
            "_________________________________________________________________\n",
            "dropout_37 (Dropout)         multiple                  0         \n",
            "_________________________________________________________________\n",
            "classifier (Dense)           multiple                  3845      \n",
            "=================================================================\n",
            "Total params: 109,486,085\n",
            "Trainable params: 109,486,085\n",
            "Non-trainable params: 0\n",
            "_________________________________________________________________\n"
          ],
          "name": "stdout"
        }
      ]
    },
    {
      "cell_type": "markdown",
      "metadata": {
        "id": "KXHI2TEAgPlf"
      },
      "source": [
        "Train Test Split"
      ]
    },
    {
      "cell_type": "code",
      "metadata": {
        "id": "DPlDPt35gR5l"
      },
      "source": [
        "from sklearn.model_selection import train_test_split\r\n",
        "\r\n",
        "train, test = train_test_split(df_clean, test_size=0.25, random_state=123, shuffle=True)"
      ],
      "execution_count": null,
      "outputs": []
    },
    {
      "cell_type": "code",
      "metadata": {
        "colab": {
          "base_uri": "https://localhost:8080/"
        },
        "id": "fbSGHQU7uQbD",
        "outputId": "c0d78fb0-0a51-47e5-f9ac-3081b64ecd27"
      },
      "source": [
        "train.shape"
      ],
      "execution_count": null,
      "outputs": [
        {
          "output_type": "execute_result",
          "data": {
            "text/plain": [
              "(2600, 2)"
            ]
          },
          "metadata": {
            "tags": []
          },
          "execution_count": 27
        }
      ]
    },
    {
      "cell_type": "code",
      "metadata": {
        "colab": {
          "base_uri": "https://localhost:8080/"
        },
        "id": "Q6q4vnVluQZI",
        "outputId": "91c208fe-2600-48c1-f1f5-43f0b023ff3d"
      },
      "source": [
        "test.shape"
      ],
      "execution_count": null,
      "outputs": [
        {
          "output_type": "execute_result",
          "data": {
            "text/plain": [
              "(867, 2)"
            ]
          },
          "metadata": {
            "tags": []
          },
          "execution_count": 28
        }
      ]
    },
    {
      "cell_type": "markdown",
      "metadata": {
        "id": "nh-jQXyRkS4R"
      },
      "source": [
        "I'll use BERT's InputExample method to help us create sequences from our dataset"
      ]
    },
    {
      "cell_type": "code",
      "metadata": {
        "colab": {
          "base_uri": "https://localhost:8080/"
        },
        "id": "jYe8SULRgR3T",
        "outputId": "dd0e3565-b2c2-4207-a2c4-96bcd9a85e10"
      },
      "source": [
        "InputExample(guid = None,\r\n",
        "             text_a = \"Hello, world\",\r\n",
        "             text_b = None,\r\n",
        "             label = 1)"
      ],
      "execution_count": null,
      "outputs": [
        {
          "output_type": "execute_result",
          "data": {
            "text/plain": [
              "InputExample(guid=None, text_a='Hello, world', text_b=None, label=1)"
            ]
          },
          "metadata": {
            "tags": []
          },
          "execution_count": 29
        }
      ]
    },
    {
      "cell_type": "code",
      "metadata": {
        "id": "Jod7xhsZM_95"
      },
      "source": [
        "def convert_data_to_examples(train, test, DATA_COLUMN, LABEL_COLUMN): \r\n",
        "  train_InputExamples = train.apply(lambda x: InputExample(guid=None, # Globally unique ID for bookkeeping, unused in this case\r\n",
        "                                                          text_a = x[DATA_COLUMN], \r\n",
        "                                                          text_b = None,\r\n",
        "                                                          label = x[LABEL_COLUMN]), axis = 1)\r\n",
        "\r\n",
        "  validation_InputExamples = test.apply(lambda x: InputExample(guid=None, # Globally unique ID for bookkeeping, unused in this case\r\n",
        "                                                          text_a = x[DATA_COLUMN], \r\n",
        "                                                          text_b = None,\r\n",
        "                                                          label = x[LABEL_COLUMN]), axis = 1)\r\n",
        "  \r\n",
        "  return train_InputExamples, validation_InputExamples"
      ],
      "execution_count": null,
      "outputs": []
    },
    {
      "cell_type": "code",
      "metadata": {
        "id": "bvhI-51TgR0u"
      },
      "source": [
        "def convert_examples_to_tf_dataset(examples, tokenizer, max_length=128):\r\n",
        "    features = [] # -> will hold InputFeatures to be converted later\r\n",
        "\r\n",
        "    for e in examples:\r\n",
        "        # Documentation is really strong for this method, so please take a look at it\r\n",
        "        input_dict = tokenizer.encode_plus(\r\n",
        "            e.text_a,\r\n",
        "            add_special_tokens=True,\r\n",
        "            max_length=max_length, # truncates if len(s) > max_length\r\n",
        "            return_token_type_ids=True,\r\n",
        "            return_attention_mask=True,\r\n",
        "            pad_to_max_length=True, # pads to the right by default # CHECK THIS for pad_to_max_length\r\n",
        "            truncation=True\r\n",
        "        )\r\n",
        "\r\n",
        "        input_ids, token_type_ids, attention_mask = (input_dict[\"input_ids\"],\r\n",
        "            input_dict[\"token_type_ids\"], input_dict['attention_mask'])\r\n",
        "\r\n",
        "        features.append(\r\n",
        "            InputFeatures(\r\n",
        "                input_ids=input_ids, attention_mask=attention_mask, token_type_ids=token_type_ids, label=e.label\r\n",
        "            )\r\n",
        "        )\r\n",
        "\r\n",
        "    def gen():\r\n",
        "        for f in features:\r\n",
        "            yield (\r\n",
        "                {\r\n",
        "                    \"input_ids\": f.input_ids,\r\n",
        "                    \"attention_mask\": f.attention_mask,\r\n",
        "                    \"token_type_ids\": f.token_type_ids,\r\n",
        "                },\r\n",
        "                f.label,\r\n",
        "            )\r\n",
        "\r\n",
        "    return tf.data.Dataset.from_generator(gen,\r\n",
        "                                          ({\"input_ids\": tf.int32, \"attention_mask\": tf.int32, \"token_type_ids\": tf.int32}, tf.int64),\r\n",
        "                                          (\r\n",
        "                                            {\r\n",
        "                                                \"input_ids\": tf.TensorShape([None]),\r\n",
        "                                                \"attention_mask\": tf.TensorShape([None]),\r\n",
        "                                                \"token_type_ids\": tf.TensorShape([None]),\r\n",
        "                                            },\r\n",
        "                                            tf.TensorShape([]),\r\n",
        "                                          ),\r\n",
        "                                         )"
      ],
      "execution_count": null,
      "outputs": []
    },
    {
      "cell_type": "code",
      "metadata": {
        "id": "aKbJhZf8NmLO"
      },
      "source": [
        "DATA_COLUMN = 'TEXT'\r\n",
        "LABEL_COLUMN = 'RATING'"
      ],
      "execution_count": null,
      "outputs": []
    },
    {
      "cell_type": "code",
      "metadata": {
        "colab": {
          "base_uri": "https://localhost:8080/"
        },
        "id": "dTu1O9uFm6bT",
        "outputId": "c1e66f1e-6093-4f02-c587-853f5781444f"
      },
      "source": [
        "train_InputExamples, validation_InputExamples = convert_data_to_examples(train, test, DATA_COLUMN, LABEL_COLUMN)\r\n",
        "\r\n",
        "train_data = convert_examples_to_tf_dataset(list(train_InputExamples), tokenizer)\r\n",
        "train_data = train_data.shuffle(100).batch(32).repeat(2)\r\n",
        "\r\n",
        "validation_data = convert_examples_to_tf_dataset(list(validation_InputExamples), tokenizer)\r\n",
        "validation_data = validation_data.batch(32)"
      ],
      "execution_count": null,
      "outputs": [
        {
          "output_type": "stream",
          "text": [
            "/usr/local/lib/python3.7/dist-packages/transformers/tokenization_utils_base.py:2155: FutureWarning: The `pad_to_max_length` argument is deprecated and will be removed in a future version, use `padding=True` or `padding='longest'` to pad to the longest sequence in the batch, or use `padding='max_length'` to pad to a max length. In this case, you can give a specific length with `max_length` (e.g. `max_length=45`) or leave max_length to None to pad to the maximal input size of the model (e.g. 512 for Bert).\n",
            "  FutureWarning,\n"
          ],
          "name": "stderr"
        }
      ]
    },
    {
      "cell_type": "code",
      "metadata": {
        "colab": {
          "base_uri": "https://localhost:8080/"
        },
        "id": "IWqLypYX7ubq",
        "outputId": "e5fd74f5-732e-4738-b06a-4b7a625e33b8"
      },
      "source": [
        "list(train_InputExamples[:5]) #to see the structure of our data using the InputExample BERT function"
      ],
      "execution_count": null,
      "outputs": [
        {
          "output_type": "execute_result",
          "data": {
            "text/plain": [
              "[InputExample(guid=None, text_a='bustier make double pumping much easier great idea zipper one broke within first two week working keep going would recommend going another brand worth money hassle', text_b=None, label=1),\n",
              " InputExample(guid=None, text_a='fabric dress substantial feel high quality construction done well however fit dress odd short im 55 135 lb im small target dress thats ordered dress suppose correct size fit everywhere however short unless shorter am would absolutely consider work dress waist hit much higher natural waist again petite height might work you agree previous reviewer way skirt flare flattering add lot bulk high hope dress bomb', text_b=None, label=1),\n",
              " InputExample(guid=None, text_a='quite surprised styling versatility modal lounge pant 59 wa 335 in inseam 235lbs size 1820 somewhat curvy ordered long xxl im glad length perfect pant quite long though usually roll waistline tie bring legnth wearing flat walking shoesgym shoe tie regular waistline wearing high heeled booty dress boot super versatile styling well wear casual pant dressy pant one know loungewearnnthese pant thin show bump bulge easily material substantially roomy pant leg wide flareleg style would definitely wear spring summer weather u really want wear fall winter month put legging underneath keep warmnnbased legnth long pant see anyone 36 in inseam rockin lounge pant problem bought sale buy one get 60 another pair use 20 promo ordermade pant steal black brown pair look nice dressy gray pair casual heather gray look for walkingworking out navy blue dark navy blue wash quite wellive already washed warm hot water thrown dryer high heat shrunk yetnngreat buy especially get sale really comfortable versatile lounge pant gave 4stars though pretty thin light good buy none le', text_b=None, label=3),\n",
              " InputExample(guid=None, text_a='strap short even way out elastic used scratchy tried wearing today washing 2 time could hardly wait get home take off', text_b=None, label=0),\n",
              " InputExample(guid=None, text_a='generally fan underwires really needed minimizer bra wear lighter summer clothing bra surprisingly comfy great job minimizing also true size', text_b=None, label=3)]"
            ]
          },
          "metadata": {
            "tags": []
          },
          "execution_count": 34
        }
      ]
    },
    {
      "cell_type": "code",
      "metadata": {
        "colab": {
          "base_uri": "https://localhost:8080/"
        },
        "id": "dTnHaxYF8L9p",
        "outputId": "94bdea7c-b5d9-486a-c2cf-436240201cea"
      },
      "source": [
        "list(train_data.take(1)) #to see the final structure of our dataset, generated by TensorFlow's tf.data.Dataset.from_generator() method"
      ],
      "execution_count": null,
      "outputs": [
        {
          "output_type": "execute_result",
          "data": {
            "text/plain": [
              "[({'attention_mask': <tf.Tensor: shape=(32, 128), dtype=int32, numpy=\n",
              "   array([[1, 1, 1, ..., 0, 0, 0],\n",
              "          [1, 1, 1, ..., 0, 0, 0],\n",
              "          [1, 1, 1, ..., 0, 0, 0],\n",
              "          ...,\n",
              "          [1, 1, 1, ..., 0, 0, 0],\n",
              "          [1, 1, 1, ..., 0, 0, 0],\n",
              "          [1, 1, 1, ..., 0, 0, 0]], dtype=int32)>,\n",
              "   'input_ids': <tf.Tensor: shape=(32, 128), dtype=int32, numpy=\n",
              "   array([[  101,  4906, 17099, ...,     0,     0,     0],\n",
              "          [  101,  4156,  7579, ...,     0,     0,     0],\n",
              "          [  101,  3191,  3319, ...,     0,     0,     0],\n",
              "          ...,\n",
              "          [  101,  4606,  2946, ...,     0,     0,     0],\n",
              "          [  101,  2364, 10520, ...,     0,     0,     0],\n",
              "          [  101,  3517,  2438, ...,     0,     0,     0]], dtype=int32)>,\n",
              "   'token_type_ids': <tf.Tensor: shape=(32, 128), dtype=int32, numpy=\n",
              "   array([[0, 0, 0, ..., 0, 0, 0],\n",
              "          [0, 0, 0, ..., 0, 0, 0],\n",
              "          [0, 0, 0, ..., 0, 0, 0],\n",
              "          ...,\n",
              "          [0, 0, 0, ..., 0, 0, 0],\n",
              "          [0, 0, 0, ..., 0, 0, 0],\n",
              "          [0, 0, 0, ..., 0, 0, 0]], dtype=int32)>},\n",
              "  <tf.Tensor: shape=(32,), dtype=int64, numpy=\n",
              "  array([3, 4, 0, 1, 3, 2, 3, 1, 2, 3, 1, 4, 1, 2, 1, 2, 1, 3, 0, 3, 3, 3,\n",
              "         4, 3, 3, 2, 4, 2, 3, 0, 1, 2])>)]"
            ]
          },
          "metadata": {
            "tags": []
          },
          "execution_count": 35
        }
      ]
    },
    {
      "cell_type": "markdown",
      "metadata": {
        "id": "1fI8xmrwm9OO"
      },
      "source": [
        "Compile and train the model"
      ]
    },
    {
      "cell_type": "code",
      "metadata": {
        "colab": {
          "base_uri": "https://localhost:8080/"
        },
        "id": "V0s86DQ1QWGS",
        "outputId": "6810c332-6358-4bb2-dc88-e5fe6cf1214d"
      },
      "source": [
        "import os\r\n",
        "from keras.callbacks import EarlyStopping, ModelCheckpoint\r\n",
        "#checkpoint_filepath = os.path.join(os.getcwd(), \"checkpoints/weights-cnn.hdf5\")\r\n",
        "from google.colab import drive\r\n",
        "drive.mount('/content/drive')"
      ],
      "execution_count": null,
      "outputs": [
        {
          "output_type": "stream",
          "text": [
            "Mounted at /content/drive\n"
          ],
          "name": "stdout"
        }
      ]
    },
    {
      "cell_type": "code",
      "metadata": {
        "colab": {
          "base_uri": "https://localhost:8080/"
        },
        "id": "vRGUtJOpgRya",
        "outputId": "fe97456c-5892-48e7-e685-a5ab67c1b5e1"
      },
      "source": [
        "model.compile(optimizer=tf.keras.optimizers.Adam(learning_rate=3e-5, epsilon=1e-08, clipnorm=1.0), \r\n",
        "              loss=tf.keras.losses.SparseCategoricalCrossentropy(from_logits=True), \r\n",
        "              metrics=[tf.keras.metrics.SparseCategoricalAccuracy('accuracy')])\r\n",
        "\r\n",
        "checkpoint_filepath = '/content/drive/My Drive/Colab Notebooks/weights-nlp.hdf5'\r\n",
        "checkpoint = ModelCheckpoint(checkpoint_filepath, monitor='val_loss', verbose=1, save_best_only=True, mode='min')\r\n",
        "\r\n",
        "history = model.fit(train_data, epochs=5, validation_data=validation_data, callbacks=checkpoint)"
      ],
      "execution_count": null,
      "outputs": [
        {
          "output_type": "stream",
          "text": [
            "Epoch 1/5\n",
            "WARNING:tensorflow:The parameters `output_attentions`, `output_hidden_states` and `use_cache` cannot be updated when calling a model.They have to be set to True/False in the config object (i.e.: `config=XConfig.from_pretrained('name', output_attentions=True)`).\n",
            "WARNING:tensorflow:AutoGraph could not transform <bound method Socket.send of <zmq.sugar.socket.Socket object at 0x7f7d87642b40>> and will run it as-is.\n",
            "Please report this to the TensorFlow team. When filing the bug, set the verbosity to 10 (on Linux, `export AUTOGRAPH_VERBOSITY=10`) and attach the full output.\n",
            "Cause: module, class, method, function, traceback, frame, or code object was expected, got cython_function_or_method\n",
            "To silence this warning, decorate the function with @tf.autograph.experimental.do_not_convert\n",
            "WARNING: AutoGraph could not transform <bound method Socket.send of <zmq.sugar.socket.Socket object at 0x7f7d87642b40>> and will run it as-is.\n",
            "Please report this to the TensorFlow team. When filing the bug, set the verbosity to 10 (on Linux, `export AUTOGRAPH_VERBOSITY=10`) and attach the full output.\n",
            "Cause: module, class, method, function, traceback, frame, or code object was expected, got cython_function_or_method\n",
            "To silence this warning, decorate the function with @tf.autograph.experimental.do_not_convert\n",
            "WARNING:tensorflow:AutoGraph could not transform <function wrap at 0x7f7da29ea0e0> and will run it as-is.\n",
            "Cause: while/else statement not yet supported\n",
            "To silence this warning, decorate the function with @tf.autograph.experimental.do_not_convert\n",
            "WARNING: AutoGraph could not transform <function wrap at 0x7f7da29ea0e0> and will run it as-is.\n",
            "Cause: while/else statement not yet supported\n",
            "To silence this warning, decorate the function with @tf.autograph.experimental.do_not_convert\n",
            "WARNING:tensorflow:The parameter `return_dict` cannot be set in graph mode and will always be set to `True`.\n",
            "WARNING:tensorflow:The parameters `output_attentions`, `output_hidden_states` and `use_cache` cannot be updated when calling a model.They have to be set to True/False in the config object (i.e.: `config=XConfig.from_pretrained('name', output_attentions=True)`).\n",
            "WARNING:tensorflow:The parameter `return_dict` cannot be set in graph mode and will always be set to `True`.\n",
            "    164/Unknown - 7708s 47s/step - loss: 1.6389 - accuracy: 0.2201WARNING:tensorflow:The parameters `output_attentions`, `output_hidden_states` and `use_cache` cannot be updated when calling a model.They have to be set to True/False in the config object (i.e.: `config=XConfig.from_pretrained('name', output_attentions=True)`).\n",
            "WARNING:tensorflow:The parameter `return_dict` cannot be set in graph mode and will always be set to `True`.\n",
            "164/164 [==============================] - 8099s 49s/step - loss: 1.6388 - accuracy: 0.2201 - val_loss: 1.6084 - val_accuracy: 0.2376\n",
            "\n",
            "Epoch 00001: val_loss improved from inf to 1.60842, saving model to /content/drive/My Drive/Colab Notebooks/weights-nlp.hdf5\n",
            "Epoch 2/5\n",
            "164/164 [==============================] - 8140s 50s/step - loss: 1.6129 - accuracy: 0.2294 - val_loss: 1.6078 - val_accuracy: 0.2238\n",
            "\n",
            "Epoch 00002: val_loss improved from 1.60842 to 1.60778, saving model to /content/drive/My Drive/Colab Notebooks/weights-nlp.hdf5\n",
            "Epoch 3/5\n",
            "111/164 [===================>..........] - ETA: 42:06 - loss: 1.6082 - accuracy: 0.2403"
          ],
          "name": "stdout"
        }
      ]
    },
    {
      "cell_type": "markdown",
      "metadata": {
        "id": "_eDxY0sbZloP"
      },
      "source": [
        "### Final Thoughts:"
      ]
    },
    {
      "cell_type": "markdown",
      "metadata": {
        "id": "IEnTJm33i1KQ"
      },
      "source": [
        "* I've cleaned the data making text lowercase, removing punctuation, numbers and stopwords, and performing lemmatization. I've used nltk library to remove stopwords and the lemmatization.\r\n",
        "\r\n",
        "* For the learning process I've used the clean lemmatized text. I've chosen the BERT model from the transformers library, as it's the state of art model for NLP and Transfer Learning. I've also used TensorFlow, for the input of the model.\r\n",
        "\r\n",
        "* For the model evaluation, I've used the accuracy metric and the SparseCategoricalCrossentropy for the loss function. For the validation set, I've split the dataset at 75%/25%. The testing accuracy is 24%. It's too low, but I wanted to use the BERT model which has barely been published as open source for these type of sentiment analysis, which classifies not as positive/neutral/negative, but on 5 rating classes. It also needs a lot of hours for training. \r\n",
        "\r\n",
        "* With more time and data, I would have tried another models or training this one with more epochs, as well as training a RNN using Keras. Furthermore, 3400 samples are too few for a neural network.\r\n",
        "\r\n",
        "* Future work: change the ratings from 1-5 to negative (1-2), neutral (3) and positive (4-5) to simplify the training."
      ]
    }
  ]
}